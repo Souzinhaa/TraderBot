{
 "cells": [
  {
   "cell_type": "markdown",
   "metadata": {},
   "source": [
    "##Importações"
   ]
  },
  {
   "cell_type": "markdown",
   "metadata": {},
   "source": [
    "pip install unicodedata\n",
    "pip install json\n",
    "pip install requests\n",
    "pip install datetime\n",
    "pip install numpy\n",
    "pip install matplotlib\n",
    "pip install python -m pip install TA_Lib-0.4.24-cp39-cp39-win_amd64.whl\n",
    "pip install plotly\n",
    "pip install pandas_datareader\n",
    "pip install pandas\n",
    "pip install yfinance\n",
    "pip install statsmodels\n",
    "pip install nbformat\n",
    "pip install pantas_ta"
   ]
  },
  {
   "cell_type": "code",
   "execution_count": 1,
   "metadata": {},
   "outputs": [],
   "source": [
    "# Usar python 3.9 e TA_Lib-0.4.24-cp39-cp39-win_amd64.whl\n",
    "# from binance.client import Clientcommand:workbench.trust.manage\n",
    "import json\n",
    "import datetime\n",
    "import matplotlib.pyplot as plt\n",
    "import matplotlib\n",
    "import pandas as pd\n",
    "import time\n",
    "import integration\n",
    "import wallet_controller as wallet\n",
    "import utils\n",
    "import indicators\n",
    "import send_email\n",
    "\n",
    "matplotlib.style.use('ggplot')\n",
    "\n"
   ]
  },
  {
   "cell_type": "code",
   "execution_count": 2,
   "metadata": {},
   "outputs": [],
   "source": [
    "#btc_price = get_price_coin_range('btc', int(datetime.datetime(2013, 1, 21).timestamp()), int(datetime.datetime(2023, 11, 7).timestamp())) # Ano, mês, dia\n",
    "btc_price_ohlc = integration.get_price_coin_ohlc('btc')\n",
    "btc_price_ohlc = btc_price_ohlc[~btc_price_ohlc.index.duplicated(keep='first')]\n",
    "\n",
    "\"\"\" eth_price_ohlc = get_price_coin_ohlc('eth')\n",
    "eth_price_ohlc = eth_price_ohlc[~eth_price_ohlc.index.duplicated(keep='first')] \"\"\"\n",
    "\n",
    "btc_price_complete = integration.get_price_coin_range('btc', int(datetime.datetime(2013, 1, 1).timestamp()), int(time.time())) # Ano, mês, dia\n",
    "btc_price_complete = btc_price_complete[~btc_price_complete.index.duplicated(keep='first')]\n"
   ]
  },
  {
   "cell_type": "code",
   "execution_count": 3,
   "metadata": {},
   "outputs": [
    {
     "data": {
      "text/plain": [
       "\" for i in range(106, 1, -1):\\n    plot_grafico(i, 321, 'z') \""
      ]
     },
     "execution_count": 3,
     "metadata": {},
     "output_type": "execute_result"
    }
   ],
   "source": [
    "def plot_grafico(month, corte, thread):\n",
    "    \n",
    "    df_invest = utils.slice_per_month(btc_price_complete.copy(), month, corte)\n",
    "        \n",
    "    df_invest_rsi = utils.slice_per_month(indicators.create_rsi_indicator(btc_price_complete.copy(), 2), month, corte)\n",
    "    df_invest_lines = indicators.calculate_supports_lines(utils.slice_per_month(btc_price_ohlc.copy(), month, corte), 1)\n",
    "    \n",
    "    \"\"\" df_invest_trend = indicators.create_trend_indicator(btc_price_complete.copy(), 3)\n",
    "    fig, ax = plt.subplots(figsize=(30, 6))\n",
    "    df_invest['close'].plot(ax=ax, title=\"Análises\")\n",
    "    # Defina os limites do eixo Y com algum espaço acima e abaixo dos valores reais para garantir que o eixo seja visível\n",
    "    y_min, y_max = df_invest_rsi['close'].min()*-2, df_invest_rsi['close'].max()*2\n",
    "    ax.set_ylim(y_min, y_max)\n",
    "            \n",
    "    # Adicione linhas verticais em verde para 'bulls'\n",
    "    for bull_date in df_invest_trend['bulls']:\n",
    "        ax.axvline(x=bull_date, color='green', linestyle=':')\n",
    "\n",
    "    # Adicione linhas verticais em vermelho para 'bears'\n",
    "    for bear_date in df_invest_trend['bears']:\n",
    "        ax.axvline(x=bear_date, color='red', linestyle=':')\n",
    "\n",
    "    # Desenhe as linhas de suporte e resistência\n",
    "    for level in df_invest_lines['support']:\n",
    "        ax.axhline(y=level, color='green', linestyle='--')\n",
    "\n",
    "    for level in df_invest_lines['resistence']:\n",
    "        ax.axhline(y=level, color='red', linestyle='--') \"\"\"\n",
    "\n",
    "    for rsi in df_invest_rsi.index:\n",
    "        if rsi in df_invest.index:\n",
    "            #if df_invest_rsi['rsi_indicator'][rsi] == 'compra':\n",
    "            if df_invest_rsi['rsi_indicator'][rsi] == 'compra' and (df_invest['close'][rsi] <= df_invest_lines['support'][0]):\n",
    "                #ax.scatter(rsi, df_invest['close'][rsi], color='green', marker='^', label='Compra')\n",
    "                wallet.calcular_informacoes_operacao(\"BTC\", str(rsi)[:10], \"0.001\", str(df_invest['close'][rsi]), \"buy\", thread)\n",
    "                #return 0.01\n",
    "            #if df_invest_rsi['rsi_indicator'][rsi] == 'venda':\n",
    "            if df_invest_rsi['rsi_indicator'][rsi] == 'venda' and (df_invest['close'][rsi] >= df_invest_lines['resistence'][0]):\n",
    "                #ax.scatter(rsi, df_invest['close'][rsi], color='red', marker='v', label='Venda')\n",
    "                wallet.calcular_informacoes_operacao(\"BTC\", str(rsi)[:10], \"0.0001\", str(df_invest['close'][rsi]), \"sell\", thread)\n",
    "                #return 0\n",
    "    \"\"\" # Exiba a legenda apenas uma vez após os loops\n",
    "    ax.legend(['Close', 'Bull Date', 'Bear Date', 'Suporte', 'Resistência', 'Compra RSI', 'Venda RSI'])\n",
    "    \n",
    "    # Mostrar o gráfico\n",
    "    plt.savefig(utils.path + 'grafico.png')\n",
    "    plt.show() \"\"\"\n",
    "    \n",
    "    #wallet.calcular_informacoes_operacao(\"BTC\", \"2023-11-11\", \"0.0059\", \"36642\", \"buy\")    \n",
    "#plot_grafico(60, -365, 321)\n",
    "\"\"\" for i in range(5, 1, -1):\n",
    "    plot_grafico(i, 81, 'aaaj') \"\"\"\n",
    "\"\"\" for i in range(106, 1, -1):\n",
    "    plot_grafico(i, 321, 'z') \"\"\"\n",
    "\n",
    "#plot_grafico(2, 30, \"aaay\")\n",
    "#plot_grafico(4, 100, \"aaax\")\n",
    "\n",
    "#plot_grafico(4, 81, \"aaaj\")\n",
    "#plot_grafico(110, 60, \"aaax\")"
   ]
  },
  {
   "cell_type": "code",
   "execution_count": 4,
   "metadata": {},
   "outputs": [],
   "source": [
    "def validar_resultados_wallet(month, slice, wallet):\n",
    "    thread = wallet\n",
    "    plot_grafico(month, slice, thread)\n",
    "    carteira = utils.ler_carteira_json(thread)\n",
    "    dolar = 4.9\n",
    "    valor_comprado = sum(float(item['amount']) for item in carteira['BTC'] if item['operation'] == 'buy')\n",
    "    json_resultados = {\n",
    "        \"meses\": month,\n",
    "        \"corte\": slice,\n",
    "        \"BTCs_comprados\": valor_comprado,\n",
    "        \"btc_dolar_hoje\": float(carteira['BTC'][-1]['amount_total']) * btc_price_complete['close'][-1],\n",
    "        \"dolares_gastos\": float(carteira['BTC'][-1]['wallet_usd'])\n",
    "    }\n",
    "    json_resultados['resultado'] = json_resultados['dolares_gastos'] + json_resultados['btc_dolar_hoje']\n",
    "    print(json.dumps(json_resultados))\n",
    "    utils.gravar_resultados_json(json_resultados)\n",
    "#validar_resultados_wallet(2, 10, \"aaax\")\n",
    "#validar_resultados_wallet(39, 364, \"aaay\")"
   ]
  },
  {
   "cell_type": "code",
   "execution_count": 12,
   "metadata": {},
   "outputs": [
    {
     "name": "stdout",
     "output_type": "stream",
     "text": [
      "{\"meses\": 44, \"corte\": 81, \"BTCs_comprados\": 0.01900000000000001, \"BTCs_vendidos\": 0.0005, \"btc_dolar_hoje\": 174.48682000000005, \"dolares_gastos\": -363.02598900000004, \"resultado\": -188.539169, \"porcentagem\": -108.05}\n",
      "{\"meses\": 43, \"corte\": 81, \"BTCs_comprados\": 0.02000000000000001, \"BTCs_vendidos\": 0.0005, \"btc_dolar_hoje\": 178.16136000000006, \"dolares_gastos\": -370.94731900000005, \"resultado\": -192.785959, \"porcentagem\": -108.21}\n",
      "{\"meses\": 41, \"corte\": 81, \"BTCs_comprados\": 0.02000000000000001, \"BTCs_vendidos\": 0.0005, \"btc_dolar_hoje\": 210.3578100000001, \"dolares_gastos\": -370.94731900000005, \"resultado\": -160.58950899999996, \"porcentagem\": -76.34}\n",
      "{\"meses\": 42, \"corte\": 81, \"BTCs_comprados\": 0.02000000000000001, \"BTCs_vendidos\": 0.0005, \"btc_dolar_hoje\": 231.3657450000001, \"dolares_gastos\": -370.94731900000005, \"resultado\": -139.58157399999996, \"porcentagem\": -60.33}\n",
      "{\"meses\": 38, \"corte\": 81, \"BTCs_comprados\": 0.022000000000000013, \"BTCs_vendidos\": 0.0005, \"btc_dolar_hoje\": 458.3296900000002, \"dolares_gastos\": -386.554679, \"resultado\": 71.77501100000018, \"porcentagem\": 15.66}\n",
      "{\"meses\": 37, \"corte\": 81, \"BTCs_comprados\": 0.022000000000000013, \"BTCs_vendidos\": 0.0005, \"btc_dolar_hoje\": 790.9316800000003, \"dolares_gastos\": -386.554679, \"resultado\": 404.37700100000023, \"porcentagem\": 51.13}\n",
      "{\"meses\": 35, \"corte\": 81, \"BTCs_comprados\": 0.023000000000000013, \"BTCs_vendidos\": 0.0005, \"btc_dolar_hoje\": 1327.8359250000005, \"dolares_gastos\": -393.86365900000004, \"resultado\": 933.9722660000004, \"porcentagem\": 70.34}\n",
      "{\"meses\": 50, \"corte\": 81, \"BTCs_comprados\": 0.023000000000000013, \"BTCs_vendidos\": 0.0006000000000000001, \"btc_dolar_hoje\": 154.58329600000008, \"dolares_gastos\": -388.08477200000004, \"resultado\": -233.50147599999997, \"porcentagem\": -151.05}\n",
      "[{'meses': 44, 'corte': 81, 'BTCs_comprados': 0.01900000000000001, 'BTCs_vendidos': 0.0005, 'btc_dolar_hoje': 174.48682000000005, 'dolares_gastos': -363.02598900000004, 'resultado': -188.539169, 'porcentagem': -108.05}, {'meses': 43, 'corte': 81, 'BTCs_comprados': 0.02000000000000001, 'BTCs_vendidos': 0.0005, 'btc_dolar_hoje': 178.16136000000006, 'dolares_gastos': -370.94731900000005, 'resultado': -192.785959, 'porcentagem': -108.21}, {'meses': 41, 'corte': 81, 'BTCs_comprados': 0.02000000000000001, 'BTCs_vendidos': 0.0005, 'btc_dolar_hoje': 210.3578100000001, 'dolares_gastos': -370.94731900000005, 'resultado': -160.58950899999996, 'porcentagem': -76.34}, {'meses': 42, 'corte': 81, 'BTCs_comprados': 0.02000000000000001, 'BTCs_vendidos': 0.0005, 'btc_dolar_hoje': 231.3657450000001, 'dolares_gastos': -370.94731900000005, 'resultado': -139.58157399999996, 'porcentagem': -60.33}, {'meses': 38, 'corte': 81, 'BTCs_comprados': 0.022000000000000013, 'BTCs_vendidos': 0.0005, 'btc_dolar_hoje': 458.3296900000002, 'dolares_gastos': -386.554679, 'resultado': 71.77501100000018, 'porcentagem': 15.66}, {'meses': 37, 'corte': 81, 'BTCs_comprados': 0.022000000000000013, 'BTCs_vendidos': 0.0005, 'btc_dolar_hoje': 790.9316800000003, 'dolares_gastos': -386.554679, 'resultado': 404.37700100000023, 'porcentagem': 51.13}, {'meses': 35, 'corte': 81, 'BTCs_comprados': 0.023000000000000013, 'BTCs_vendidos': 0.0005, 'btc_dolar_hoje': 1327.8359250000005, 'dolares_gastos': -393.86365900000004, 'resultado': 933.9722660000004, 'porcentagem': 70.34}, {'meses': 50, 'corte': 81, 'BTCs_comprados': 0.023000000000000013, 'BTCs_vendidos': 0.0006000000000000001, 'btc_dolar_hoje': 154.58329600000008, 'dolares_gastos': -388.08477200000004, 'resultado': -233.50147599999997, 'porcentagem': -151.05}]\n"
     ]
    }
   ],
   "source": [
    "import concurrent.futures\n",
    "import threading\n",
    "import time\n",
    "import itertools\n",
    "resultados = []\n",
    "results_temp = {}\n",
    "contadores = {}\n",
    "def validar_resultados_wallet(args):\n",
    "    month, slice = args\n",
    "    thread = threading.current_thread().ident\n",
    "    thread = f'{slice}'\n",
    "    json_resultados = {}\n",
    "    #utils.gravar_carteira_json({}, thread)\n",
    "    plot_grafico(month, slice, thread)\n",
    "    carteira = utils.ler_carteira_json(thread)\n",
    "    dolar = 4.9\n",
    "    valor_comprado = sum(float(item['amount']) for item in carteira['BTC'] if item['operation'] == 'buy')\n",
    "    valor_vendido = sum(float(item['amount']) for item in carteira['BTC'] if item['operation'] == 'sell')\n",
    "    json_resultados = {\n",
    "        \"meses\": month,\n",
    "        \"corte\": slice,\n",
    "        \"BTCs_comprados\": valor_comprado,\n",
    "        \"BTCs_vendidos\": valor_vendido,\n",
    "        \"btc_dolar_hoje\": float(carteira['BTC'][-1]['amount_total']) * utils.slice_per_month(btc_price_complete['close'], month, slice)[-1],\n",
    "        \"dolares_gastos\": float(carteira['BTC'][-1]['wallet_usd'])\n",
    "    }\n",
    "    json_resultados['resultado'] = json_resultados['dolares_gastos'] + json_resultados['btc_dolar_hoje']\n",
    "    json_resultados['porcentagem'] = round(((json_resultados[\"btc_dolar_hoje\"] + json_resultados[\"resultado\"]) / json_resultados[\"btc_dolar_hoje\"] -1)* 100, 2)\n",
    "    print(json.dumps(json_resultados))\n",
    "    if thread in results_temp:\n",
    "        results_temp[thread].append(json_resultados)\n",
    "    else:\n",
    "        results_temp[thread] = []\n",
    "        results_temp[thread].append(json_resultados)\n",
    "    \n",
    "    if thread in contadores:\n",
    "        contadores[thread] += 1\n",
    "    else:\n",
    "        contadores[thread] = 1\n",
    "    if contadores[thread] == 1:\n",
    "        resultados.append(results_temp[thread][0])\n",
    "        contadores[thread] = 0\n",
    "        results_temp[thread] = []\n",
    "\n",
    "#validar_resultados_wallet(4, 1460, 300)\n",
    "# Defina suas faixas\n",
    "slice_range = range(1, 365)\n",
    "slice_range = [81]\n",
    "\n",
    "months_range = [81]\n",
    "months_range = range(80, 1, -1)\n",
    "# Crie todas as combinações possíveis\n",
    "combinations = list(itertools.product(months_range, slice_range))\n",
    "\n",
    "#print(combinations)\n",
    "# Número de threads a serem utilizadas\n",
    "num_threads = 12\n",
    "\n",
    "# Use ThreadPoolExecutor para executar a função em várias threads\n",
    "with concurrent.futures.ThreadPoolExecutor(max_workers=num_threads) as executor:\n",
    "    # Mapeie a função diretamente para a lista de combinações\n",
    "    executor.map(validar_resultados_wallet, combinations)\n",
    "utils.gravar_resultados_json(resultados)\n",
    "print(resultados)"
   ]
  },
  {
   "cell_type": "code",
   "execution_count": 6,
   "metadata": {},
   "outputs": [],
   "source": [
    "resultados = []\n",
    "btc_in_dolar = 37833\n",
    "\n",
    "with open(utils.path + 'results.json', \"r\") as file:\n",
    "            resultados = json.load(file)\n",
    "#resultados_filtrados = filter(lambda x: x[\"resultado\"] > 6000, resultados)\n",
    "# Crie um DataFrame a partir da lista de dicionários\n",
    "df = pd.DataFrame(resultados)\n",
    "\n",
    "#df = df[(df['corte'] > 80) & (df['corte'] < 83)]\n",
    "# Calcule a soma do campo \"porcentagem\" agrupado pelo campo \"corte\"\n",
    "#print(df.groupby('corte')['porcentagem'].sum())\n",
    "df = df[df['meses'] == 2]\n",
    "porcentagem_agrupado = df.groupby('corte')['porcentagem'].sum().reset_index()\n",
    "# Renomeie a coluna resultante para \"final\"\n",
    "porcentagem_agrupado = porcentagem_agrupado.rename(columns={'porcentagem': 'final'})\n",
    "\n",
    "porcentagem_positivo = porcentagem_agrupado[porcentagem_agrupado['final'] > -1]\n",
    "\n",
    "porcentagem_positivo_ordenado = porcentagem_positivo.sort_values(by='final', ascending=False)\n",
    "\n",
    "# Exiba o porcentagem\n",
    "#print(porcentagem_positivo_ordenado)"
   ]
  },
  {
   "cell_type": "code",
   "execution_count": 13,
   "metadata": {},
   "outputs": [
    {
     "name": "stdout",
     "output_type": "stream",
     "text": [
      "<filter object at 0x000002808EA15C40>\n"
     ]
    },
    {
     "data": {
      "image/png": "[encoded data removed]",
      "text/plain": [
       "<Figure size 3000x600 with 1 Axes>"
      ]
     },
     "metadata": {},
     "output_type": "display_data"
    },
    {
     "ename": "JSONDecodeError",
     "evalue": "Extra data: line 344 column 2 (char 11201)",
     "output_type": "error",
     "traceback": [
      "\u001b[1;31m---------------------------------------------------------------------------\u001b[0m",
      "\u001b[1;31mJSONDecodeError\u001b[0m                           Traceback (most recent call last)",
      "\u001b[1;32mc:\\Users\\Adrian\\Dropbox\\Projeto Trade TCC\\TraderBot\\criptoInvest.ipynb Cell 9\u001b[0m line \u001b[0;36m1\n\u001b[0;32m     <a href='vscode-notebook-cell:/c%3A/Users/Adrian/Dropbox/Projeto%20Trade%20TCC/TraderBot/criptoInvest.ipynb#X11sZmlsZQ%3D%3D?line=15'>16</a>\u001b[0m plt\u001b[39m.\u001b[39msavefig(utils\u001b[39m.\u001b[39mpath \u001b[39m+\u001b[39m \u001b[39m'\u001b[39m\u001b[39mresultado.png\u001b[39m\u001b[39m'\u001b[39m)\n\u001b[0;32m     <a href='vscode-notebook-cell:/c%3A/Users/Adrian/Dropbox/Projeto%20Trade%20TCC/TraderBot/criptoInvest.ipynb#X11sZmlsZQ%3D%3D?line=17'>18</a>\u001b[0m plt\u001b[39m.\u001b[39mshow()\n\u001b[1;32m---> <a href='vscode-notebook-cell:/c%3A/Users/Adrian/Dropbox/Projeto%20Trade%20TCC/TraderBot/criptoInvest.ipynb#X11sZmlsZQ%3D%3D?line=18'>19</a>\u001b[0m send_email\u001b[39m.\u001b[39;49msend_email()\n",
      "File \u001b[1;32mc:\\Users\\Adrian\\Dropbox\\Projeto Trade TCC\\TraderBot\\send_email.py:5\u001b[0m, in \u001b[0;36msend_email\u001b[1;34m()\u001b[0m\n\u001b[0;32m      4\u001b[0m \u001b[39mdef\u001b[39;00m \u001b[39msend_email\u001b[39m():\n\u001b[1;32m----> 5\u001b[0m     carteira \u001b[39m=\u001b[39m ut\u001b[39m.\u001b[39;49mler_carteira_json(\u001b[39m'\u001b[39;49m\u001b[39m81\u001b[39;49m\u001b[39m'\u001b[39;49m)\n\u001b[0;32m      6\u001b[0m     operation \u001b[39m=\u001b[39m carteira[\u001b[39m'\u001b[39m\u001b[39mBTC\u001b[39m\u001b[39m'\u001b[39m][\u001b[39m-\u001b[39m\u001b[39m1\u001b[39m]\n\u001b[0;32m      7\u001b[0m     operation[\u001b[39m\"\u001b[39m\u001b[39mnome_destinatario\u001b[39m\u001b[39m\"\u001b[39m] \u001b[39m=\u001b[39m \u001b[39m'\u001b[39m\u001b[39mAdrian\u001b[39m\u001b[39m'\u001b[39m\n",
      "File \u001b[1;32mc:\\Users\\Adrian\\Dropbox\\Projeto Trade TCC\\TraderBot\\utils.py:46\u001b[0m, in \u001b[0;36mler_carteira_json\u001b[1;34m(number)\u001b[0m\n\u001b[0;32m     44\u001b[0m \u001b[39mtry\u001b[39;00m:\n\u001b[0;32m     45\u001b[0m     \u001b[39mwith\u001b[39;00m \u001b[39mopen\u001b[39m(path \u001b[39m+\u001b[39m \u001b[39mstr\u001b[39m(number) \u001b[39m+\u001b[39m arquivo_json, \u001b[39m\"\u001b[39m\u001b[39mr\u001b[39m\u001b[39m\"\u001b[39m) \u001b[39mas\u001b[39;00m file:\n\u001b[1;32m---> 46\u001b[0m         carteira \u001b[39m=\u001b[39m json\u001b[39m.\u001b[39;49mload(file)\n\u001b[0;32m     47\u001b[0m     \u001b[39mreturn\u001b[39;00m carteira\n\u001b[0;32m     48\u001b[0m \u001b[39mexcept\u001b[39;00m \u001b[39mFileNotFoundError\u001b[39;00m:\n",
      "File \u001b[1;32mc:\\Users\\Adrian\\AppData\\Local\\Programs\\Python\\Python39\\lib\\json\\__init__.py:293\u001b[0m, in \u001b[0;36mload\u001b[1;34m(fp, cls, object_hook, parse_float, parse_int, parse_constant, object_pairs_hook, **kw)\u001b[0m\n\u001b[0;32m    274\u001b[0m \u001b[39mdef\u001b[39;00m \u001b[39mload\u001b[39m(fp, \u001b[39m*\u001b[39m, \u001b[39mcls\u001b[39m\u001b[39m=\u001b[39m\u001b[39mNone\u001b[39;00m, object_hook\u001b[39m=\u001b[39m\u001b[39mNone\u001b[39;00m, parse_float\u001b[39m=\u001b[39m\u001b[39mNone\u001b[39;00m,\n\u001b[0;32m    275\u001b[0m         parse_int\u001b[39m=\u001b[39m\u001b[39mNone\u001b[39;00m, parse_constant\u001b[39m=\u001b[39m\u001b[39mNone\u001b[39;00m, object_pairs_hook\u001b[39m=\u001b[39m\u001b[39mNone\u001b[39;00m, \u001b[39m*\u001b[39m\u001b[39m*\u001b[39mkw):\n\u001b[0;32m    276\u001b[0m \u001b[39m    \u001b[39m\u001b[39m\"\"\"Deserialize ``fp`` (a ``.read()``-supporting file-like object containing\u001b[39;00m\n\u001b[0;32m    277\u001b[0m \u001b[39m    a JSON document) to a Python object.\u001b[39;00m\n\u001b[0;32m    278\u001b[0m \n\u001b[1;32m   (...)\u001b[0m\n\u001b[0;32m    291\u001b[0m \u001b[39m    kwarg; otherwise ``JSONDecoder`` is used.\u001b[39;00m\n\u001b[0;32m    292\u001b[0m \u001b[39m    \"\"\"\u001b[39;00m\n\u001b[1;32m--> 293\u001b[0m     \u001b[39mreturn\u001b[39;00m loads(fp\u001b[39m.\u001b[39mread(),\n\u001b[0;32m    294\u001b[0m         \u001b[39mcls\u001b[39m\u001b[39m=\u001b[39m\u001b[39mcls\u001b[39m, object_hook\u001b[39m=\u001b[39mobject_hook,\n\u001b[0;32m    295\u001b[0m         parse_float\u001b[39m=\u001b[39mparse_float, parse_int\u001b[39m=\u001b[39mparse_int,\n\u001b[0;32m    296\u001b[0m         parse_constant\u001b[39m=\u001b[39mparse_constant, object_pairs_hook\u001b[39m=\u001b[39mobject_pairs_hook, \u001b[39m*\u001b[39m\u001b[39m*\u001b[39mkw)\n",
      "File \u001b[1;32mc:\\Users\\Adrian\\AppData\\Local\\Programs\\Python\\Python39\\lib\\json\\__init__.py:346\u001b[0m, in \u001b[0;36mloads\u001b[1;34m(s, cls, object_hook, parse_float, parse_int, parse_constant, object_pairs_hook, **kw)\u001b[0m\n\u001b[0;32m    341\u001b[0m     s \u001b[39m=\u001b[39m s\u001b[39m.\u001b[39mdecode(detect_encoding(s), \u001b[39m'\u001b[39m\u001b[39msurrogatepass\u001b[39m\u001b[39m'\u001b[39m)\n\u001b[0;32m    343\u001b[0m \u001b[39mif\u001b[39;00m (\u001b[39mcls\u001b[39m \u001b[39mis\u001b[39;00m \u001b[39mNone\u001b[39;00m \u001b[39mand\u001b[39;00m object_hook \u001b[39mis\u001b[39;00m \u001b[39mNone\u001b[39;00m \u001b[39mand\u001b[39;00m\n\u001b[0;32m    344\u001b[0m         parse_int \u001b[39mis\u001b[39;00m \u001b[39mNone\u001b[39;00m \u001b[39mand\u001b[39;00m parse_float \u001b[39mis\u001b[39;00m \u001b[39mNone\u001b[39;00m \u001b[39mand\u001b[39;00m\n\u001b[0;32m    345\u001b[0m         parse_constant \u001b[39mis\u001b[39;00m \u001b[39mNone\u001b[39;00m \u001b[39mand\u001b[39;00m object_pairs_hook \u001b[39mis\u001b[39;00m \u001b[39mNone\u001b[39;00m \u001b[39mand\u001b[39;00m \u001b[39mnot\u001b[39;00m kw):\n\u001b[1;32m--> 346\u001b[0m     \u001b[39mreturn\u001b[39;00m _default_decoder\u001b[39m.\u001b[39;49mdecode(s)\n\u001b[0;32m    347\u001b[0m \u001b[39mif\u001b[39;00m \u001b[39mcls\u001b[39m \u001b[39mis\u001b[39;00m \u001b[39mNone\u001b[39;00m:\n\u001b[0;32m    348\u001b[0m     \u001b[39mcls\u001b[39m \u001b[39m=\u001b[39m JSONDecoder\n",
      "File \u001b[1;32mc:\\Users\\Adrian\\AppData\\Local\\Programs\\Python\\Python39\\lib\\json\\decoder.py:340\u001b[0m, in \u001b[0;36mJSONDecoder.decode\u001b[1;34m(self, s, _w)\u001b[0m\n\u001b[0;32m    338\u001b[0m end \u001b[39m=\u001b[39m _w(s, end)\u001b[39m.\u001b[39mend()\n\u001b[0;32m    339\u001b[0m \u001b[39mif\u001b[39;00m end \u001b[39m!=\u001b[39m \u001b[39mlen\u001b[39m(s):\n\u001b[1;32m--> 340\u001b[0m     \u001b[39mraise\u001b[39;00m JSONDecodeError(\u001b[39m\"\u001b[39m\u001b[39mExtra data\u001b[39m\u001b[39m\"\u001b[39m, s, end)\n\u001b[0;32m    341\u001b[0m \u001b[39mreturn\u001b[39;00m obj\n",
      "\u001b[1;31mJSONDecodeError\u001b[0m: Extra data: line 344 column 2 (char 11201)"
     ]
    }
   ],
   "source": [
    "resultados = []\n",
    "btc_in_dolar = 37833\n",
    "with open(utils.path + 'results.json', \"r\") as file:\n",
    "            resultados = json.load(file)\n",
    "resultados_filtrados = filter(lambda x: x[\"corte\"] > 1, resultados)\n",
    "print(resultados_filtrados)\n",
    "# Crie um DataFrame\n",
    "df = pd.DataFrame(resultados_filtrados)\n",
    "df = df.sort_values(by='meses', ascending=False)\n",
    "\n",
    "# Análise Exploratória de Dados\n",
    "#print(df.describe())\n",
    "\n",
    "# Visualizações\n",
    "df.plot(x='meses', y='porcentagem', kind='bar', title='Resultado por Meses', figsize=(30, 6))\n",
    "plt.savefig(utils.path + 'resultado.png')\n",
    "\n",
    "plt.show()\n",
    "send_email.send_email()"
   ]
  }
 ],
 "metadata": {
  "kernelspec": {
   "display_name": "Python 3",
   "language": "python",
   "name": "python3"
  },
  "language_info": {
   "codemirror_mode": {
    "name": "ipython",
    "version": 3
   },
   "file_extension": ".py",
   "mimetype": "text/x-python",
   "name": "python",
   "nbconvert_exporter": "python",
   "pygments_lexer": "ipython3",
   "version": "3.9.0"
  },
  "orig_nbformat": 4
 },
 "nbformat": 4,
 "nbformat_minor": 2
}
